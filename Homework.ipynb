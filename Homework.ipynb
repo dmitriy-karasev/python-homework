{
  "nbformat": 4,
  "nbformat_minor": 0,
  "metadata": {
    "colab": {
      "name": "Homework.ipynb",
      "provenance": [],
      "authorship_tag": "ABX9TyP3dWtHGkGTac5mYluQm1qr",
      "include_colab_link": true
    },
    "kernelspec": {
      "name": "python3",
      "display_name": "Python 3"
    },
    "language_info": {
      "name": "python"
    }
  },
  "cells": [
    {
      "cell_type": "markdown",
      "metadata": {
        "id": "view-in-github",
        "colab_type": "text"
      },
      "source": [
        "<a href=\"https://colab.research.google.com/github/dmitriy-karasev/python-homework/blob/develop/Homework.ipynb\" target=\"_parent\"><img src=\"https://colab.research.google.com/assets/colab-badge.svg\" alt=\"Open In Colab\"/></a>"
      ]
    },
    {
      "cell_type": "code",
      "execution_count": 9,
      "metadata": {
        "id": "UhvmmJgbwPdh",
        "colab": {
          "base_uri": "https://localhost:8080/"
        },
        "outputId": "9c030874-6c69-4196-9082-6003d60525ec"
      },
      "outputs": [
        {
          "output_type": "stream",
          "name": "stdout",
          "text": [
            "Enter decimal integer: 15\n",
            "For the decimal integer number 15 there are its hexadecimal 0xf and binary 0b1111 values\n"
          ]
        }
      ],
      "source": [
        "x_decimal= int(input('Enter decimal integer: '))\n",
        "x_hex = hex(x_decimal)\n",
        "x_binary= bin(x_decimal)\n",
        "print(f\"For the decimal integer number {x_decimal} there are its hexadecimal {x_hex} and binary {x_binary} values\")"
      ]
    },
    {
      "cell_type": "code",
      "source": [
        "weight= float(input('Enter your weight in kilograms: '))\n",
        "height= float(input('Enter your height in metres: '))\n",
        "bmi = weight/(height*height)\n",
        "bmi_integer = int(round(bmi,0))\n",
        "bmi_2_precision = round(bmi,2)\n",
        "print(f\"Your BMI is (integer) {bmi_integer} or to be precise (rounded to 2 digits precision) {bmi_2_precision}\")"
      ],
      "metadata": {
        "colab": {
          "base_uri": "https://localhost:8080/"
        },
        "id": "sGqOllnHthqk",
        "outputId": "904a9189-c2dc-4d00-9ac8-d51e2f5bd397"
      },
      "execution_count": 4,
      "outputs": [
        {
          "output_type": "stream",
          "name": "stdout",
          "text": [
            "Enter your weight in kilograms: 76\n",
            "Enter your height in metres: 1.8\n",
            "Your BMI is (integer) 23 or to be precise (rounded to 2 digits precision) 23.46\n"
          ]
        }
      ]
    }
  ]
}